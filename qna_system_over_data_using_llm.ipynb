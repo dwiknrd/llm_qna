{
 "cells": [
  {
   "cell_type": "markdown",
   "metadata": {},
   "source": [
    "**Table of contents**<a id='toc0_'></a>    \n",
    "- [QnA System Over Structured Data using LLM](#toc1_)    \n",
    "  - [Introduction](#toc1_1_)    \n",
    "  - [Theoritical Basis](#toc1_2_)    \n",
    "    - [Generative AI](#toc1_2_1_)    \n",
    "    - [Large Language Models](#toc1_2_2_)    \n",
    "      - [LLM Development vs. Traditional Development](#toc1_2_2_1_)    \n",
    "      - [LLM usage in various business contexts](#toc1_2_2_2_)    \n",
    "    - [Langchain](#toc1_2_3_)    \n",
    "  - [Environment Set-up](#toc1_3_)    \n",
    "      - [Mengatur Key API dan File `.env`](#toc1_3_1_1_)    \n",
    "  - [Langchain Quick Start](#toc1_4_)    \n",
    "    - [Prompt](#toc1_4_1_)    \n",
    "      - [Basic Prompt](#toc1_4_1_1_)    \n",
    "    - [Prompt Template](#toc1_4_2_)    \n",
    "    - [Agent](#toc1_4_3_)    \n",
    "  - [Build Question Aswering System](#toc1_5_)    \n",
    "    - [SQLite Database](#toc1_5_1_)    \n",
    "      - [Basic Question Answer System](#toc1_5_1_1_)    \n",
    "    - [Structured Data](#toc1_5_2_)    \n",
    "    - [Unstructured Data](#toc1_5_3_)    \n",
    "      - [Visualization](#toc1_5_3_1_)    \n",
    "\n",
    "<!-- vscode-jupyter-toc-config\n",
    "\tnumbering=false\n",
    "\tanchor=true\n",
    "\tflat=false\n",
    "\tminLevel=1\n",
    "\tmaxLevel=6\n",
    "\t/vscode-jupyter-toc-config -->\n",
    "<!-- THIS CELL WILL BE REPLACED ON TOC UPDATE. DO NOT WRITE YOUR TEXT IN THIS CELL -->"
   ]
  },
  {
   "cell_type": "markdown",
   "metadata": {},
   "source": [
    "# <a id='toc1_'></a>[QnA System Over Structured Data using LLM](#toc0_)\n"
   ]
  },
  {
   "cell_type": "markdown",
   "metadata": {},
   "source": [
    "\n",
    "## <a id='toc1_1_'></a>[Introduction](#toc0_)\n",
    "\n",
    "Latar belakang proyek ini berasal dari kebutuhan akan solusi yang lebih efisien dan efektif dalam menjawab pertanyaan yang berkaitan dengan data terstruktur. Dalam lingkungan bisnis yang semakin kompleks, akses cepat dan akurat terhadap informasi yang tersembunyi dalam data terstruktur menjadi krusial. Namun, pengolahan data semacam ini dapat menjadi rumit dan memerlukan upaya manual yang signifikan. Oleh karena itu, mengintegrasikan kecerdasan buatan, seperti Large Language Model (LLM), dengan data terstruktur dapat membawa solusi yang inovatif untuk meningkatkan efisiensi dan kualitas dalam menjawab pertanyaan-pertanyaan tersebut.\n",
    "\n",
    "> 🔎 Tujuan utama dari proyek ini adalah mengembangkan sebuah sistem pertanyaan dan jawaban yang menggabungkan kekuatan Large Language Model (LLM) dengan informasi terstruktur dari data dalam format terstruktur, seperti file CSV atau SQL. \n",
    "\n",
    "Dengan memadukan potensi LLM dalam memahami bahasa alami dengan informasi terstruktur yang ada dalam dataset, proyek ini bertujuan untuk menciptakan solusi yang dapat memberikan jawaban yang lebih kontekstual dan akurat. Selain itu, proyek ini juga bermaksud untuk mengeksplorasi cara-cara mengoptimalkan interaksi antara data teks dan terstruktur, dengan harapan dapat memberikan panduan yang berguna bagi pengembangan solusi serupa di masa depan. Melalui kombinasi ini, proyek ini diharapkan mampu menyediakan alat yang bermanfaat untuk meningkatkan efisiensi, produktivitas, dan pengambilan keputusan dalam berbagai konteks bisnis yang mengandalkan analisis data terstruktur.\n",
    "\n",
    "<img title=\"karate cat\" src=\"assets/GIF_Generative-ChatGPT.gif\" width = 60%>\n",
    "\n"
   ]
  },
  {
   "cell_type": "markdown",
   "metadata": {},
   "source": [
    "## <a id='toc1_2_'></a>[Theoritical Basis](#toc0_)\n",
    "\n",
    "### <a id='toc1_2_1_'></a>[Generative AI](#toc0_)\n",
    "\n",
    "<img title=\"karate cat\" src=\"assets/AI-GIF-Generator-min.gif\" width = 60%>\n",
    "\n",
    "<div class=\"alert alert-info\">\n",
    "    <p>\n",
    "    <li>Generative AI adalah subbidang kecerdasan buatan yang berfokus pada pengembangan model yang mampu menghasilkan data baru yang sebelumnya tidak ada.</li>\n",
    "    <li>Model generatif dapat menciptakan teks, gambar, suara, dan data lainnya yang serupa dengan data yang digunakan untuk melatih model.</li>\n",
    "    <li>Model generative AI, seperti Large Language Models (LLM), adalah contoh utama dari jenis ini. Model-model ini dilatih pada jumlah besar data dan dapat menghasilkan teks, gambar, suara, dan bahkan video yang seolah-olah dibuat oleh manusia.</li>\n",
    "    <hr><br>\n",
    "    📌 <b>Pada intinya, generative AI memiliki kemampuan untuk \"mengerti\" pola dan struktur dari data pelatihan dan menggunakan pemahaman ini untuk membuat data baru yang serupa. </b>\n",
    "    </p>\n",
    "</div> \n",
    "\n",
    "Konsep generative AI memainkan peran sentral dalam proyek ini yang berfokus pada pengembangan sistem Pertanyaan dan Jawaban (QA) berbasis Large Language Model (LLM) menggunakan data terstruktur. \n",
    "\n",
    "> 🔎 Generative AI merupakan paradigma yang memungkinkan penciptaan data baru yang otentik, dengan model yang mampu menghasilkan informasi yang sebelumnya tidak ada berdasarkan pemahaman pola dari data pelatihan. \n",
    "\n",
    "Dalam konteks proyek ini, generative AI membuka pintu untuk **menghasilkan jawaban yang kontekstual** dan relevan dalam sistem QA. Dengan memanfaatkan Large Language Model, yang pada dasarnya merupakan jenis generative AI, sistem ini dapat menghasilkan jawaban berdasarkan pemahaman bahasa alami serta informasi terstruktur yang ditemukan dalam data yang disajikan dalam format terstruktur. Integrasi generative AI dalam solusi QA ini mampu menghasilkan respons yang lebih kreatif dan kontekstual, serta memberikan solusi yang potensial dalam meningkatkan efektivitas komunikasi dan analisis dalam berbagai konteks bisnis."
   ]
  },
  {
   "cell_type": "markdown",
   "metadata": {},
   "source": [
    "### <a id='toc1_2_2_'></a>[Large Language Models](#toc0_)\n",
    "\n",
    "LLM adalah aplikasi khusus dari Generative AI yang difokuskan pada generasi teks. Mereka menggunakan teknik generatif AI, seperti pemodelan probabilitas dan prediksi urutan, untuk menghasilkan teks yang menyerupai manusia. Dengan memodelkan sifat statistik bahasa, LLM dapat menghasilkan teks yang kohesif, relevan, dan sering kali sulit dibedakan dari teks yang ditulis oleh manusia.\n",
    "\n",
    "Istilah \"Large\" dalam konteks Large Language Models (LLM) merujuk pada dua aspek:\n",
    "\n",
    "**1. Dataset pelatihan besar**\n",
    "\n",
    " - LLM umumnya dilatih pada jumlah besar data teks untuk menangkap pola dan struktur statistik yang ada dalam bahasa.\n",
    " - Dataset pelatihan dapat terdiri dari berbagai sumber seperti buku, artikel, situs web, dan korpus teks lainnya, yang memberikan beragam pola dan konteks linguistik.\n",
    " - Dengan menggunakan dataset pelatihan yang besar, LLM memiliki kesempatan untuk belajar dari sejumlah besar informasi dan meningkatkan kemampuan pemodelan bahasanya.\n",
    "    \n",
    "**2. Jumlah parameter besar**\n",
    "\n",
    " - LLM ditandai dengan jumlah parameter yang signifikan, yaitu variabel yang dapat dipelajari yang menentukan perilaku model.\n",
    " - Jumlah parameter dalam LLM dapat berkisar dari jutaan hingga miliaran, tergantung pada ukuran dan kompleksitas model.\n",
    " - Meningkatkan jumlah parameter memungkinkan LLM untuk menangkap pola bahasa yang lebih rumit dan menghasilkan teks yang lebih kohesif dan kontekstual.\n",
    " - Model dengan jumlah parameter yang lebih besar dapat menangani berbagai tugas bahasa dan menunjukkan kemampuan generasi bahasa yang lebih unggul.\n",
    "\n",
    "\n",
    "LLM adalah model canggih yang dirancang untuk berbagai tugas yang terkait dengan teks. Tugas-tugas ini meliputi:\n",
    "\n",
    "<img title=\"llm problem\" src=\"assets/llm_problem.png\">\n",
    "\n",
    "1. **Klasifikasi Teks**: LLM dapat diadaptasi untuk mengklasifikasikan teks ke dalam berbagai kategori atau label yang telah ditentukan sebelumnya. Melalui pelatihan dengan data yang telah diberi label, mereka belajar untuk mengidentifikasi pola-pola yang mengindikasikan kelas-kelas tertentu. Contohnya termasuk mengklasifikasikan email sebagai spam atau bukan, menganalisis sentimen (positif, negatif, netral) dalam teks, dan mengategorikan artikel berita berdasarkan topiknya.\n",
    "\n",
    "2. **Pertanyaan dan Jawaban**: LLM dapat memahami pertanyaan dan memberikan jawaban yang akurat berdasarkan konteks atau basis pengetahuan yang diberikan. Melalui pelatihan dengan pasangan pertanyaan dan jawaban, mereka dapat menghasilkan respons yang relevan. Mereka digunakan dalam chatbot, asisten virtual, dan mesin pencari.\n",
    "\n",
    "3. **Ringkasan Dokumen**: LLM mampu merangkum dokumen-dokumen panjang dengan mengidentifikasi informasi-informasi penting. Melalui pelatihan dengan pasangan dokumen dan ringkasannya, mereka belajar untuk membuat ringkasan yang koheren dan singkat. Ini berguna dalam pengambilan informasi, analisis konten, dan kompresi data.\n",
    "\n",
    "4. **Penghasilan Teks**: LLM memiliki kemampuan untuk menghasilkan teks yang menyerupai bahasa manusia untuk berbagai tujuan. Mereka memanfaatkan pemahaman dan kemampuan generasi bahasa mereka untuk menghasilkan teks yang koheren dan sesuai konteks. Mereka dapat disesuaikan untuk membuat cerita, puisi, deskripsi produk, dan lainnya."
   ]
  },
  {
   "cell_type": "markdown",
   "metadata": {},
   "source": [
    "#### <a id='toc1_2_2_1_'></a>[LLM Development vs. Traditional Development](#toc0_)\n",
    "\n",
    "| Pengembangan LLM (menggunakan API yang telah dipre-train) | Pengembangan ML Tradisional |\n",
    "| ----------- | ----------- |\n",
    "| Tidak memerlukan keahlian ML      | Memerlukan keahlian ML       |\n",
    "| Tidak memerlukan contoh pelatihan   | Memerlukan contoh pelatihan       |\n",
    "| Tidak perlu melatih model | Perlu melatih model|\n",
    "| Memikirkan desain permintaan | Memikirkan cara meminimalkan fungsi kerugian|\n",
    "\n",
    "\n",
    "#### <a id='toc1_2_2_2_'></a>[LLM usage in various business contexts](#toc0_)\n",
    "\n",
    "**1. Customer Support and Chatbots:**\n",
    "   - Showcasing a chatbot powered by an LLM that can handle customer inquiries, provide product recommendations, and assist with common support issues.\n",
    "   - Demonstrating the chatbot's ability to understand and respond to user queries, maintaining a natural and conversational interaction.\n",
    "\n",
    "**2. Content Generation and Marketing:**\n",
    "   - Demonstrating how an LLM can generate engaging and personalized content for marketing campaigns, social media posts, or email newsletters.\n",
    "   - Showcasing the LLM's ability to generate content that aligns with the brand's voice and resonates with the target audience.\n",
    "\n",
    "**3. Data Analysis and Insights:**\n",
    "   - Demonstrating how an LLM can analyze large volumes of customer feedback, reviews, or survey responses to extract valuable insights.\n",
    "   - Showcasing the LLM's ability to identify trends, sentiments, and key topics within the data, enabling data-driven decision-making.\n",
    "\n",
    "**4. Document Processing and Automation:**\n",
    "   - Demonstrating how an LLM can automate the processing of documents, such as contract analysis, by extracting relevant information, identifying clauses, or generating summaries.\n",
    "   - Showcasing the time-saving and accuracy improvements achieved through LLM-powered document automation.\n",
    "\n",
    "**5. Language Translation and Localization:**\n",
    "   - Demonstrating an LLM's ability to perform accurate language translation across multiple languages.\n",
    "   - Showcasing how the LLM can handle nuances, idioms, and context-specific translations, enabling effective communication in global markets.\n",
    "\n",
    "**6. Data-driven Decision-making:**\n",
    "   - Demonstrating how an LLM can analyze market trends, customer behavior, or social media data to provide insights for strategic decision-making.\n",
    "   - Showcasing the LLM's ability to identify patterns, correlations, or emerging topics within the data, facilitating informed business decisions."
   ]
  },
  {
   "cell_type": "markdown",
   "metadata": {},
   "source": [
    "<hr>\n",
    "\n",
    "<div class=\"alert alert-info\">\n",
    "    <p>\n",
    "    <b>Large Language Model (LLM)</b>\n",
    "    <li>Large Language Models (LLMs) adalah model bahasa yang diperluas, seperti GPT (Generative Pre-trained Transformer) dan BERT (Bidirectional Encoder Representations from Transformers).</li>\n",
    "    <li>LLMs dapat memahami dan menghasilkan teks yang kompleks dengan mempelajari pola bahasa dari data pelatihan yang besar dan beragam.</li>\n",
    "    <li>Mereka menggunakan arsitektur Transformer, yang memiliki kemampuan untuk memahami konteks dalam teks dengan cara yang lebih baik dibandingkan arsitektur sebelumnya.</li>\n",
    "    <hr><br>\n",
    "    <b>Understanding Transformer</b>\n",
    "    <li>Transformer adalah arsitektur model yang mendasari banyaknya kemajuan dalam bidang pemrosesan bahasa alami.</li>\n",
    "    <li>Ini mengatasi masalah dependensi jarak jauh dalam bahasa dengan menggunakan mekanisme self-attention, yang memungkinkan model untuk mengaitkan kata-kata yang berjauhan dalam teks.</li>\n",
    "    <li>Transformer terdiri dari encoder dan decoder, dengan encoder bertanggung jawab untuk memahami teks asli dan decoder menghasilkan teks hasil terjemahan atau generasi.</li>\n",
    "    <hr><br>\n",
    "    <b>Popular Large Language Models</b>\n",
    "    <li>GPT-3 (Generative Pre-trained Transformer 3) adalah salah satu LLM paling terkenal yang dikembangkan oleh OpenAI. Ini memiliki 175 miliar parameter dan mampu melakukan berbagai tugas bahasa alami.</li>\n",
    "    <li>BERT (Bidirectional Encoder Representations from Transformers) adalah LLM yang fokus pada pemahaman konteks dengan memeriksa konteks sebelum dan sesudah setiap kata dalam kalimat.</li>\n",
    "    <li>T5 (Text-to-Text Transfer Transformer) adalah LLM yang mengusulkan pendekatan \"teks-ke-teks\" untuk berbagai tugas bahasa, seperti menerjemahkan, menyusun, dan banyak lagi.</li>\n",
    "    <hr><br>\n",
    "    📌 <b>Konsep LLMs adalah inti dalam proyek ini, dengan menggabungkan informasi dari data terstruktur, seperti file CSV, dengan pemahaman LLM tentang bahasa, sistem QA yang dihasilkan memberikan jawaban lebih kontekstual dan akurat.</b>\n",
    "    </p>\n",
    "</div> \n",
    "\n",
    "\n",
    "\n",
    "    <b></b>\n",
    "    <li></li>\n",
    "    <li></li>\n",
    "    <li></li>"
   ]
  },
  {
   "cell_type": "markdown",
   "metadata": {},
   "source": [
    "### <a id='toc1_2_3_'></a>[Langchain](#toc0_)\n",
    "\n",
    "[LangChain](https://python.langchain.com/docs/get_started/introduction.html) merupakan alat yang relevan dalam konteks proyek ini yang fokus pada pengembangan sistem Pertanyaan dan Jawaban (QA) menggunakan Large Language Model (LLM) dan data terstruktur. LangChain adalah *framework* Python yang dirancang khusus untuk mengintegrasikan informasi dari data terstruktur, seperti file CSV, dengan kekuatan pemrosesan bahasa alami yang dimiliki oleh LLM. Dengan menggunakan LangChain, proyek ini memiliki kemampuan untuk menghubungkan antara konteks terstruktur dalam data dengan pemahaman bahasa alami, sehingga memungkinkan sistem QA untuk memberikan jawaban yang lebih kontekstual dan akurat. Melalui penggunaan pustaka ini, integrasi antara data terstruktur dan LLM dapat dilakukan dengan lebih efisien dan efektif, membantu menciptakan solusi QA yang lebih adaptif dan canggih."
   ]
  },
  {
   "cell_type": "markdown",
   "metadata": {},
   "source": [
    "## <a id='toc1_3_'></a>[Environment Set-up](#toc0_)\n",
    "\n",
    "\n",
    "Penggunaan LangChain biasanya memerlukan integrasi dengan satu atau lebih penyedia model, penyimpanan data, API, dan sebagainya. Pada contoh ini, kami akan menggunakan API model dari OpenAI.\n",
    "\n",
    "#### <a id='toc1_3_1_1_'></a>[Mengatur Key API dan File `.env`](#toc0_)\n",
    "\n",
    "Akses ke API memerlukan Key API, yang dapat Anda peroleh dengan membuat akun dan mengunjungi halaman ini. Ketika mengatur Key API dan menggunakan file .env dalam proyek Python Anda, ikuti langkah umum berikut:\n",
    "\n",
    "1. **Dapatkan Key API**: Jika Anda bekerja dengan API atau layanan eksternal yang memerlukan Key API, Anda perlu memperolehnya dari penyedia. Ini biasanya melibatkan pendaftaran akun dan pembuatan Key API khusus untuk proyek Anda.\n",
    "\n",
    "2. **Buat file .env**: Di direktori proyek Anda, buat berkas baru dan beri nama \".env\". Berkas ini akan menyimpan kunci API dan informasi sensitif lainnya secara aman.\n",
    "\n",
    "3. **Simpan kunci API di .env**: Buka berkas .env dengan editor teks dan tambahkan baris untuk menyimpan kunci API Anda. Formatnya harus `OPENAI_API_KEY=key_api_anda`, di mana \"OPENAI_API_KEY\" adalah nama variabel dan \"key_api_anda\" adalah nilai sebenarnya dari key API Anda. Pastikan untuk tidak menyertakan tanda kutip atau spasi di sekitar nilai tersebut.\n",
    "\n",
    "4. **Muat variabel lingkungan**: Dalam kode Python Anda, Anda perlu memuat variabel lingkungan dari berkas .env sebelum mengaksesnya. Impor modul dotenv dan tambahkan kode berikut di awal skrip Anda:\n",
    "\n",
    "```python\n",
    "from dotenv import load_dotenv\n",
    "\n",
    "# Muat variabel lingkungan dari berkas .env\n",
    "load_dotenv()\n",
    "```\n",
    "\n",
    "> `dotenv` adalah pustaka Python yang populer yang menyederhanakan proses memuat variabel lingkungan dari berkas .env ke aplikasi Python Anda. Ini memungkinkan Anda menyimpan variabel konfigurasi secara terpisah dari kode Anda, sehingga lebih mudah mengelola informasi sensitif seperti kunci API, kredensial basis data, atau pengaturan khusus lingkungan lainnya."
   ]
  },
  {
   "cell_type": "code",
   "execution_count": 44,
   "metadata": {},
   "outputs": [
    {
     "data": {
      "text/plain": [
       "True"
      ]
     },
     "execution_count": 44,
     "metadata": {},
     "output_type": "execute_result"
    }
   ],
   "source": [
    "from dotenv import load_dotenv\n",
    "\n",
    "load_dotenv()"
   ]
  },
  {
   "cell_type": "markdown",
   "metadata": {},
   "source": [
    "## <a id='toc1_4_'></a>[Langchain Quick Start](#toc0_)\n",
    "\n",
    "Dalam `LangChain`, Panduan Cepat melibatkan tiga komponen utama: Prompt, Chain, dan Agen.\n",
    "\n",
    "Dengan komponen **Prompt, Chain, dan Agen** yang bekerja bersama-sama, kita dapat terlibat dalam percakapan interaktif dengan model bahasa. Prompt menetapkan konteks atau memulai percakapan, Rantai mengelola riwayat percakapan, dan Agen mengelola komunikasi antara pengguna dan model bahasa.\n",
    "\n",
    "Dengan menggunakan komponen-komponen ini, kita dapat membangun aplikasi yang dinamis dan **interaktif** yang melibatkan interaksi bolak-balik dengan model bahasa, memungkinkan kita untuk membuat **agen percakapan**, **chatbot**, **sistem tanya jawab**, dan banyak lagi.\n",
    "\n",
    "Untuk berinteraksi dengan pustaka `LangChain` menggunakan model bahasa dari OpenAI, kita perlu:\n",
    "\n",
    "1. **Mengimpor Modul yang Diperlukan**: Kode mengimpor pustaka LangChain dengan pernyataan `from langchain import OpenAI`.\n",
    "\n",
    "2. **Membuat Instansi OpenAI**: Kode membuat instansi kelas `OpenAI` dan mengassignnya ke variabel `llm`. Instansi ini mewakili koneksi ke model bahasa OpenAI.\n",
    "\n",
    "3. **Mengatur Parameter Suhu (Temperature)**: Parameter `temperature` dimasukkan ke `OpenAI` saat inisialisasinya. Suhu (temperature) adalah parameter yang mengendalikan tingkat acak keluaran dari model bahasa.\n",
    "\n",
    "> Nilai suhu yang lebih tinggi (misalnya, 0.9) membuat teks yang dihasilkan lebih **beragam dan kreatif**, sementara nilai yang lebih rendah (misalnya, 0.2) membuatnya lebih **terfokus dan deterministik**.\n",
    "\n",
    "\n",
    "> Dokumentasi fungsi `OpenAI`: https://api.python.langchain.com/en/latest/llms/langchain.llms.openai.OpenAI.html"
   ]
  },
  {
   "cell_type": "code",
   "execution_count": 65,
   "metadata": {},
   "outputs": [],
   "source": [
    "from langchain import OpenAI\n",
    "\n",
    "llm = OpenAI(\n",
    "    temperature=0.9,\n",
    "    model_name=\"text-davinci-003\")"
   ]
  },
  {
   "cell_type": "markdown",
   "metadata": {},
   "source": [
    "### <a id='toc1_4_1_'></a>[Prompt](#toc0_)\n",
    "\n",
    "#### <a id='toc1_4_1_1_'></a>[Basic Prompt](#toc0_)\n",
    "\n",
    "**Prompt** mengacu pada masukan atau instruksi awal yang diberikan kepada model bahasa untuk menghasilkan respons. Ini menetapkan konteks dan memberikan panduan bagi model bahasa untuk menghasilkan teks yang relevan dan koheren.\n",
    "\n",
    "Dalam contoh ini, prompt meminta saran untuk nama yang bagus untuk merek yang mengkhususkan diri dalam burger lokal."
   ]
  },
  {
   "cell_type": "code",
   "execution_count": 66,
   "metadata": {},
   "outputs": [
    {
     "name": "stdout",
     "output_type": "stream",
     "text": [
      "\n",
      "\n",
      "Local Burger Co.\n"
     ]
    }
   ],
   "source": [
    "prompt = \"What is a good name for a brand that makes local burger?\"\n",
    "print(llm.predict(prompt))"
   ]
  },
  {
   "cell_type": "markdown",
   "metadata": {},
   "source": [
    "Model bahasa kemudian menggunakan pengetahuannya dan pelatihannya untuk menghasilkan respons yang sesuai dengan prompt yang diberikan. Perhatikan bahwa setiap kali dijalankan, model akan menghasilkan jawaban yang baru.\n",
    "\n",
    "> Fungsi `llm.predict()` dipanggil dengan menggunakan prompt sebagai masukan. Fungsi ini mengirimkan prompt ke model bahasa dan **menghasilkan** sebuah respons berdasarkan masukan yang diberikan. Teks yang dihasilkan mewakili **prediksi model bahasa** atau **kelengkapan** dari prompt.\n",
    "\n",
    "Kita juga dapat melakukannya dalam bahasa lain, mari coba dengan Bahasa Indonesia.\n",
    "\n"
   ]
  },
  {
   "cell_type": "code",
   "execution_count": 52,
   "metadata": {},
   "outputs": [
    {
     "name": "stdout",
     "output_type": "stream",
     "text": [
      "\n",
      "\n",
      "GorMentai\n"
     ]
    }
   ],
   "source": [
    "print(llm.predict(\"Nama yang bagus untuk brand yang membuat pisang goreng mentai?\"))"
   ]
  },
  {
   "cell_type": "code",
   "execution_count": 54,
   "metadata": {},
   "outputs": [
    {
     "name": "stdout",
     "output_type": "stream",
     "text": [
      "\n",
      "\n",
      "Jennie Kim\n"
     ]
    }
   ],
   "source": [
    "print(llm.predict(\"Siapa member ke 5 Blackpink?\"))"
   ]
  },
  {
   "cell_type": "code",
   "execution_count": 55,
   "metadata": {},
   "outputs": [
    {
     "name": "stdout",
     "output_type": "stream",
     "text": [
      "\n",
      "\n",
      "Tidak ada yang tahu pasti kapan kiamat akan terjadi. Al-Quran menerangkan bahwa tanggal tersebut tidak diketahui oleh manusia dan hanya Allah yang mengetahui waktunya.\n"
     ]
    }
   ],
   "source": [
    "print(llm.predict(\"Kapan kiamat?\"))"
   ]
  },
  {
   "cell_type": "code",
   "execution_count": 57,
   "metadata": {},
   "outputs": [
    {
     "name": "stdout",
     "output_type": "stream",
     "text": [
      "?\n",
      "\n",
      "PT Algoritma Data Science School Indonesia didirikan oleh Ronald Steven dan Tommy Oentoro.\n"
     ]
    }
   ],
   "source": [
    "print(llm.predict(\"Siapa pendiri PT Algoritma Data Science School Indonesia\"))"
   ]
  },
  {
   "cell_type": "markdown",
   "metadata": {},
   "source": [
    "Dengan hanya memberikan prompt dalam Bahasa Indonesia, kita dapat memperoleh respons berupa teks yang dihasilkan dalam Bahasa Indonesia juga. Ini menunjukkan kecanggihan model bahasa seperti LangChain dalam memahami dan menghasilkan teks dalam berbagai bahasa, memungkinkan untuk aplikasi dan interaksi multibahasa."
   ]
  },
  {
   "cell_type": "markdown",
   "metadata": {},
   "source": [
    "____\n",
    "\n",
    "### <a id='toc1_4_2_'></a>[Prompt Template](#toc0_)\n",
    "\n",
    "Aplikasi LLM umumnya menggunakan templat prompt alih-alih langsung memasukkan pertanyaan pengguna ke dalam LLM. Pendekatan ini melibatkan penyertaan input pengguna ke dalam konteks teks yang lebih besar yang dikenal sebagai templat prompt.\n",
    "\n",
    "**Templat prompt** adalah format terstruktur yang dirancang untuk menghasilkan prompt secara konsisten. Ini terdiri dari serangkaian string teks, yang disebut \"templat,\" yang dapat menggabungkan berbagai parameter yang diberikan oleh pengguna akhir untuk membuat prompt yang dinamis.\n",
    "\n",
    "Tema templat prompt dapat mencakup:\n",
    "\n",
    "- Instruksi untuk memandu respons model bahasa.\n",
    "- Beberapa contoh \"few-shot\" untuk membantu model bahasa menghasilkan keluaran yang lebih akurat dan sesuai konteks.\n",
    "- Pertanyaan yang diajukan kepada model bahasa.\n",
    "\n",
    "Pada contoh sebelumnya, teks yang diberikan ke model berisi instruksi untuk menghasilkan nama merek berdasarkan deskripsi yang diberikan. Pada aplikasi kita, akan lebih nyaman bagi pengguna untuk hanya memberikan deskripsi perusahaan atau produk tanpa perlu secara eksplisit memberikan instruksi kepada model.\n",
    "\n"
   ]
  },
  {
   "cell_type": "code",
   "execution_count": 58,
   "metadata": {},
   "outputs": [],
   "source": [
    "from langchain.prompts import PromptTemplate"
   ]
  },
  {
   "cell_type": "markdown",
   "metadata": {},
   "source": [
    "**Membuat** templat prompt: Gunakan metode `PromptTemplate.from_template()` untuk membuat objek `PromptTemplate` dari string templat.\n",
    "\n",
    "Dalam kasus ini, string templatnya adalah \"Apa nama yang bagus untuk merek yang membuat {produk}?\", di mana `{produk}` berfungsi sebagai placeholder untuk nama produk."
   ]
  },
  {
   "cell_type": "code",
   "execution_count": 59,
   "metadata": {},
   "outputs": [],
   "source": [
    "# Create a prompt template\n",
    "template_prompt = PromptTemplate.from_template(\"What is a good name for a brand that makes {product}?\")"
   ]
  },
  {
   "cell_type": "markdown",
   "metadata": {},
   "source": [
    "**Mengatur format** templat prompt: Gunakan metode `.format()` dari objek `PromptTemplate` untuk mengganti placeholder dalam templat dengan nilai yang diinginkan. Dalam kasus ini, placeholder `{produk}` diganti dengan string \"local burger\"."
   ]
  },
  {
   "cell_type": "code",
   "execution_count": 60,
   "metadata": {},
   "outputs": [
    {
     "name": "stdout",
     "output_type": "stream",
     "text": [
      "What is a good name for a brand that makes local burger?\n"
     ]
    }
   ],
   "source": [
    "# Format the prompt template\n",
    "prompt = template_prompt.format(product=\"local burger\")\n",
    "\n",
    "# Print the prompt\n",
    "print(prompt)"
   ]
  },
  {
   "cell_type": "code",
   "execution_count": 61,
   "metadata": {},
   "outputs": [
    {
     "name": "stdout",
     "output_type": "stream",
     "text": [
      "\n",
      "\n",
      "Tastebudz Burgers\n"
     ]
    }
   ],
   "source": [
    "print(llm.predict(prompt))"
   ]
  },
  {
   "cell_type": "markdown",
   "metadata": {},
   "source": [
    "Karena yang sudah kita buat merupakan sebuah templat, kita dapat memasukkan lebih dari 1 input."
   ]
  },
  {
   "cell_type": "code",
   "execution_count": 62,
   "metadata": {},
   "outputs": [],
   "source": [
    "# defines a string template for a poem\n",
    "template = \"Write a {adjective} poem about {subject}\"\n",
    "\n",
    "# creates a prompt template\n",
    "poem_template = PromptTemplate(\n",
    "    input_variables=[\"adjective\", \"subject\"],\n",
    "    template=template,\n",
    ")"
   ]
  },
  {
   "cell_type": "code",
   "execution_count": 63,
   "metadata": {},
   "outputs": [
    {
     "data": {
      "text/plain": [
       "'Write a sad poem about ducks'"
      ]
     },
     "execution_count": 63,
     "metadata": {},
     "output_type": "execute_result"
    }
   ],
   "source": [
    "poem_template.format(adjective='sad', subject='ducks')"
   ]
  },
  {
   "cell_type": "markdown",
   "metadata": {},
   "source": [
    "Mengatur format dari templat dengan mengganti placeholder `{adjective}` dan `{subject}` dengan nilai yang disediakan. Hasil stringnya akan menjadi \"Write a sad poem about ducks\"."
   ]
  },
  {
   "cell_type": "code",
   "execution_count": 64,
   "metadata": {},
   "outputs": [
    {
     "name": "stdout",
     "output_type": "stream",
     "text": [
      "\n",
      "\n",
      "The snow falls, so soft and white\n",
      "The winter chill holds me tight\n",
      "The pond is still, a silent scene\n",
      "The ducks are gone, a life unseen\n",
      "\n",
      "With no one here, I feel so sad\n",
      "I long for them, the quacks I had\n",
      "The water ripples, a crest of sorrow\n",
      "Without them here, there's no tomorrow\n",
      "\n",
      "The memories linger like a broken dream\n",
      "A life of joy, it's just a scheme\n",
      "I miss their chirps, their rustling wings\n",
      "This lonely pond has seldom sings\n",
      "\n",
      "I miss the ducks, the beauty they brought\n",
      "How can I be, without a thought\n",
      "I'll wait and hope, till they return\n",
      "Maybe one day, they'll see me yearn.\n"
     ]
    }
   ],
   "source": [
    "# generate a response\n",
    "print(llm.predict(poem_template.format(adjective='sad', subject='ducks')))"
   ]
  },
  {
   "cell_type": "markdown",
   "metadata": {},
   "source": [
    "Kita dapat membuat templat cepat yang berfungsi sebagai konsultan penamaan untuk perusahaan baru"
   ]
  },
  {
   "cell_type": "code",
   "execution_count": 12,
   "metadata": {},
   "outputs": [
    {
     "name": "stderr",
     "output_type": "stream",
     "text": [
      "Retrying langchain.llms.openai.completion_with_retry.<locals>._completion_with_retry in 4.0 seconds as it raised RateLimitError: Rate limit reached for default-text-davinci-003 in organization org-zswZwidekCnb9bg9VvzfjN6p on requests per min. Limit: 3 / min. Please try again in 20s. Contact us through our help center at help.openai.com if you continue to have issues. Please add a payment method to your account to increase your rate limit. Visit https://platform.openai.com/account/billing to add a payment method..\n",
      "Retrying langchain.llms.openai.completion_with_retry.<locals>._completion_with_retry in 4.0 seconds as it raised RateLimitError: Rate limit reached for default-text-davinci-003 in organization org-zswZwidekCnb9bg9VvzfjN6p on requests per min. Limit: 3 / min. Please try again in 20s. Contact us through our help center at help.openai.com if you continue to have issues. Please add a payment method to your account to increase your rate limit. Visit https://platform.openai.com/account/billing to add a payment method..\n",
      "Retrying langchain.llms.openai.completion_with_retry.<locals>._completion_with_retry in 4.0 seconds as it raised RateLimitError: Rate limit reached for default-text-davinci-003 in organization org-zswZwidekCnb9bg9VvzfjN6p on requests per min. Limit: 3 / min. Please try again in 20s. Contact us through our help center at help.openai.com if you continue to have issues. Please add a payment method to your account to increase your rate limit. Visit https://platform.openai.com/account/billing to add a payment method..\n"
     ]
    },
    {
     "name": "stdout",
     "output_type": "stream",
     "text": [
      "\n",
      "BatikBay.\n"
     ]
    }
   ],
   "source": [
    "# Define the prompt template\n",
    "template = \"\"\"\n",
    "I want you to act as a naming consultant for new companies.\n",
    "\n",
    "Here are some examples of good company names:\n",
    "\n",
    "- search engine, Google\n",
    "- social media, Facebook\n",
    "- video sharing, YouTube\n",
    "\n",
    "The name should be short, catchy and easy to remember.\n",
    "\n",
    "What is a good name for a brand that makes {product}?\n",
    "\"\"\"\n",
    "\n",
    "# Create a PromptTemplate object\n",
    "brand_template = PromptTemplate(\n",
    "    input_variables=[\"product\"],\n",
    "    template=template,\n",
    ")\n",
    "\n",
    "# Format the prompt template with specific industry values\n",
    "batik_prompt = brand_template.format(product='batik')\n",
    "\n",
    "# Print the formatted prompt\n",
    "print(llm.predict(batik_prompt))"
   ]
  },
  {
   "cell_type": "markdown",
   "metadata": {},
   "source": [
    "### <a id='toc1_4_3_'></a>[Agent](#toc0_)\n",
    "\n",
    "Dalam alur kerja yang lebih kompleks, menjadi penting untuk memiliki kemampuan membuat keputusan dan memilih tindakan berdasarkan konteks yang diberikan. Inilah tempat peran agen menjadi relevan.\n",
    "\n",
    "Agen memanfaatkan model bahasa untuk **menentukan tindakan apa** yang harus diambil dan dalam urutan apa. Mereka memiliki kumpulan alat yang tersedia, dan terus memilih, melaksanakan, dan mengevaluasi alat-alat ini sampai mereka mencapai solusi optimal. Agen memberikan pendekatan dinamis dan adaptif untuk **memecahkan masalah** dalam kerangka kerja LangChain, yang memungkinkan alur kerja yang lebih canggih dan fleksibel.\n",
    "\n",
    "Untuk memuat agen dalam LangChain, Anda perlu mempertimbangkan komponen-komponen berikut:\n",
    "\n",
    "- **LLM/Model Chat:** Ini merujuk pada model bahasa yang menggerakkan agen. Model ini bertanggung jawab untuk menghasilkan respons berdasarkan masukan yang diberikan. Anda dapat memilih dari berbagai model yang telah dilatih sebelumnya atau menggunakan model kustom Anda sendiri.\n",
    "\n",
    "- **Alat-Alat:** Alat-alat adalah fungsi atau metode yang melakukan tugas-tugas tertentu dalam alur kerja agen. Ini bisa mencakup tindakan seperti Pencarian Google, pencarian basis data, Python REPL (Read-Eval-Print Loop), atau bahkan rantai-rantai lain. LangChain menyediakan kumpulan alat bawaan dengan spesifikasinya sendiri, yang dapat Anda lihat di dokumentasi Alat-Alat.\n",
    "\n",
    "- **Nama Agen:** Nama agen adalah string yang mengidentifikasi kelas agen yang didukung. Setiap kelas agen diberi parameter oleh prompt yang digunakan oleh model bahasa untuk menentukan tindakan yang sesuai untuk diambil. Dalam konteks ini, kita akan fokus pada penggunaan agen yang didukung secara standar, daripada mengimplementasikan agen kustom. Anda dapat menjelajahi daftar agen yang didukung dan spesifikasinya untuk memilih yang paling cocok untuk aplikasi Anda.\n",
    "\n",
    "Untuk contoh tertentu yang disebutkan, kita akan memanfaatkan alat `wikipedia` untuk mengambil dan mendapatkan respons berdasarkan informasi dari Wikipedia. Alat ini memungkinkan agen mengakses informasi relevan dari Wikipedia dan memberikan respons informatif berdasarkan masukan yang diberikan."
   ]
  },
  {
   "cell_type": "code",
   "execution_count": 13,
   "metadata": {},
   "outputs": [],
   "source": [
    "from langchain.agents import AgentType, initialize_agent, load_tools"
   ]
  },
  {
   "cell_type": "markdown",
   "metadata": {},
   "source": [
    "\n",
    "\n",
    "**Tentukan model bahasa untuk agen**: Dalam contoh ini, `llm_agent` diinisialisasi dengan kelas `OpenAI`, yang mewakili model bahasa. Parameter `temperature` menentukan tingkat acak dalam respons yang dihasilkan."
   ]
  },
  {
   "cell_type": "code",
   "execution_count": 67,
   "metadata": {},
   "outputs": [],
   "source": [
    "# The language model we're going to use to control the agent.\n",
    "llm_agent = OpenAI(temperature=0)"
   ]
  },
  {
   "cell_type": "markdown",
   "metadata": {},
   "source": [
    "**Load the tools**: Fungsi `load_tools` digunakan untuk memuat alat yang diinginkan untuk agen. Dalam hal ini, alat \"wikipedia\" dan \"llm-math\" dimuat. \n",
    "\n",
    "> \"wikipedia\" memungkinkan agen mengakses informasi dari Wikipedia, sedangkan alat \"llm-math\" menggunakan model bahasa untuk operasi matematika."
   ]
  },
  {
   "cell_type": "code",
   "execution_count": 68,
   "metadata": {},
   "outputs": [],
   "source": [
    "# The tools we'll give the Agent access to. Note that the 'llm-math' tool uses an LLM, so we need to pass that in.\n",
    "tools = load_tools([\"wikipedia\", \"llm-math\"], llm=llm_agent)"
   ]
  },
  {
   "cell_type": "markdown",
   "metadata": {},
   "source": [
    "**Inisiasi Agent** -> Fungsi `initialize_agent` dipanggil untuk membuat instance agen. Dibutuhkan alat yang dimuat, model bahasa (`llm_agent`), jenis agen (`AgentType.ZERO_SHOT_REACT_DESCRIPTION`), dan parameter `verbose` opsional. Tipe agen menentukan perilaku agen, seperti menghasilkan respons berdasarkan deskripsi atau bereaksi terhadap masukan pengguna."
   ]
  },
  {
   "cell_type": "code",
   "execution_count": 69,
   "metadata": {},
   "outputs": [],
   "source": [
    "# Finally, let's initialize an agent with the tools, the language model, and the type of agent we want to use.\n",
    "agent = initialize_agent(tools, llm_agent, agent=AgentType.ZERO_SHOT_REACT_DESCRIPTION, verbose=True)"
   ]
  },
  {
   "cell_type": "code",
   "execution_count": 76,
   "metadata": {},
   "outputs": [
    {
     "name": "stdout",
     "output_type": "stream",
     "text": [
      "\n",
      "\n",
      "\u001b[1m> Entering new  chain...\u001b[0m\n",
      "\u001b[32;1m\u001b[1;3m I need to do some math\n",
      "Action: Calculator\n",
      "Action Input: King Charles III reign multiplied by 4\u001b[0m\n",
      "Observation: \u001b[33;1m\u001b[1;3mAnswer: 160\u001b[0m\n",
      "Thought:\u001b[32;1m\u001b[1;3m I now know the final answer\n",
      "Final Answer: King Charles III reigned for 160 years.\u001b[0m\n",
      "\n",
      "\u001b[1m> Finished chain.\u001b[0m\n"
     ]
    },
    {
     "data": {
      "text/plain": [
       "'King Charles III reigned for 160 years.'"
      ]
     },
     "execution_count": 76,
     "metadata": {},
     "output_type": "execute_result"
    }
   ],
   "source": [
    "agent.run(\"how long king Charles iii reign multiplied by 4\")"
   ]
  },
  {
   "cell_type": "markdown",
   "metadata": {},
   "source": [
    "## <a id='toc1_5_'></a>[Build Question Aswering System](#toc0_)\n",
    "\n",
    "### <a id='toc1_5_1_'></a>[SQLite Database](#toc0_)"
   ]
  },
  {
   "cell_type": "markdown",
   "metadata": {},
   "source": [
    "LangChain menyediakan fungsi yang menghubungkan basis data dengan LLM, yang disebut sebagai SQL Database. Ini juga menyediakan fungsi untuk menghubungkan antara basis data, model LLM, dan agen yang akan menjalankan kueri SQL berdasarkan prompt bahasa alami.\n",
    "\n",
    "Proses integrasi melibatkan pembuatan **koneksi** ke basis data, **mendefinisikan** kueri SQL yang diperlukan, dan **memanfaatkan** LLM dan agen untuk menjalankan kueri-kueri tersebut berdasarkan prompt pengguna. Ini memungkinkan interaksi dengan basis data secara ramah pengguna dan intuitif, dengan memanfaatkan kemampuan model bahasa untuk memahami dan memproses input bahasa alami."
   ]
  },
  {
   "cell_type": "markdown",
   "metadata": {},
   "source": [
    "Untuk menggunakan LangChain untuk terhubung dengan basis data, kita perlu memanfaatkan kelas `SQLDatabase`. Kelas ini memungkinkan kita untuk membentuk koneksi antara LangChain dan basis data SQL, memungkinkan integrasi yang lancar antara kueri bahasa alami dan eksekusi perintah SQL."
   ]
  },
  {
   "cell_type": "code",
   "execution_count": 77,
   "metadata": {},
   "outputs": [],
   "source": [
    "from langchain import SQLDatabase, SQLDatabaseChain"
   ]
  },
  {
   "cell_type": "markdown",
   "metadata": {},
   "source": [
    "Pada bagian ini, kita perlu memuat data. Sebagai contoh, kita akan menggunakan data chinook dari kelas akademi kita. Anda perlu menjelaskan secara eksplisit jenis basis data yang Anda muat, misalnya `sqlite:///`.\n",
    "\n",
    "Kemudian kita dapat memuat basis data dengan menggunakan `SQLDatabase` dari `langchain`."
   ]
  },
  {
   "cell_type": "code",
   "execution_count": 78,
   "metadata": {},
   "outputs": [],
   "source": [
    "dburi = \"sqlite:///data_input/chinook.db\"\n",
    "db = SQLDatabase.from_uri(dburi)"
   ]
  },
  {
   "cell_type": "markdown",
   "metadata": {},
   "source": [
    "> `from_uri()` memungkinkan kita untuk berinteraksi dengan basis data dan melakukan berbagai operasi seperti melakukan kueri data.\n",
    "\n",
    "Setelah itu, kita menghubungkan `db` ke model, menciptakan agen yang dapat mencari jawaban dalam basis data Chinook berdasarkan masukan prompt.\n",
    "\n",
    "Mari coba sebuah prompt untuk mengetahui berapa banyak baris yang ada di tabel \"tracks\" dalam basis data ini.\n",
    "\n"
   ]
  },
  {
   "cell_type": "code",
   "execution_count": 79,
   "metadata": {},
   "outputs": [],
   "source": [
    "llm = OpenAI(temperature=0) # parameter temperature"
   ]
  },
  {
   "cell_type": "markdown",
   "metadata": {},
   "source": []
  },
  {
   "cell_type": "code",
   "execution_count": 80,
   "metadata": {},
   "outputs": [
    {
     "name": "stderr",
     "output_type": "stream",
     "text": [
      "/opt/miniconda3/envs/llm_dev/lib/python3.10/site-packages/langchain/chains/sql_database/base.py:63: UserWarning: Directly instantiating an SQLDatabaseChain with an llm is deprecated. Please instantiate with llm_chain argument or using the from_llm class method.\n",
      "  warnings.warn(\n"
     ]
    },
    {
     "name": "stdout",
     "output_type": "stream",
     "text": [
      "\n",
      "\n",
      "\u001b[1m> Entering new  chain...\u001b[0m\n",
      "How many rows is in the tracks table of this db?\n",
      "SQLQuery:"
     ]
    },
    {
     "name": "stdout",
     "output_type": "stream",
     "text": [
      "\u001b[32;1m\u001b[1;3mSELECT COUNT(*) FROM tracks;\u001b[0m\n",
      "SQLResult: \u001b[33;1m\u001b[1;3m[(3503,)]\u001b[0m\n",
      "Answer:\u001b[32;1m\u001b[1;3mThe tracks table has 3503 rows.\u001b[0m\n",
      "\u001b[1m> Finished chain.\u001b[0m\n"
     ]
    },
    {
     "data": {
      "text/plain": [
       "'The tracks table has 3503 rows.'"
      ]
     },
     "execution_count": 80,
     "metadata": {},
     "output_type": "execute_result"
    }
   ],
   "source": [
    "db_chain = SQLDatabaseChain(llm=llm, database=db, verbose=True)\n",
    "\n",
    "db_chain.run(\"How many rows is in the tracks table of this db?\")"
   ]
  },
  {
   "cell_type": "markdown",
   "metadata": {},
   "source": [
    "Perhatikan bahwa keluaran mengandung beberapa komponen:\n",
    "- `SQLQuery`, yang memberikan informasi tentang proses yang digunakan oleh model untuk mencari jawaban menggunakan SQL.\n",
    "- `SQLResult`, yang mewakili hasil yang diperoleh dari menjalankan kueri SQL pada basis data kita.\n",
    "- `Answer`, yang mengonversi `SQLResult` menjadi bahasa alami dan menampilkannya sebagai jawaban akhir."
   ]
  },
  {
   "cell_type": "markdown",
   "metadata": {},
   "source": [
    "#### <a id='toc1_5_1_1_'></a>[Basic Question Answer System](#toc0_)\n",
    "\n",
    "Contoh:\n",
    "\n",
    "> all sales in rock genre in 2012"
   ]
  },
  {
   "cell_type": "code",
   "execution_count": 81,
   "metadata": {},
   "outputs": [
    {
     "name": "stdout",
     "output_type": "stream",
     "text": [
      "\n",
      "\n",
      "\u001b[1m> Entering new  chain...\u001b[0m\n",
      "all sales in rock genre in 2012 based on invoice\n",
      "SQLQuery:"
     ]
    },
    {
     "name": "stdout",
     "output_type": "stream",
     "text": [
      "\u001b[32;1m\u001b[1;3mSELECT i.InvoiceId, i.InvoiceDate, i.Total FROM invoices i \n",
      "INNER JOIN invoice_items ii ON i.InvoiceId = ii.InvoiceId \n",
      "INNER JOIN tracks t ON ii.TrackId = t.TrackId \n",
      "INNER JOIN genres g ON t.GenreId = g.GenreId \n",
      "WHERE g.Name = 'Rock' AND strftime('%Y', i.InvoiceDate) = '2012'\n",
      "LIMIT 5;\u001b[0m\n",
      "SQLResult: \u001b[33;1m\u001b[1;3m[(319, '2012-11-01 00:00:00', 8.91), (319, '2012-11-01 00:00:00', 8.91), (319, '2012-11-01 00:00:00', 8.91), (319, '2012-11-01 00:00:00', 8.91), (320, '2012-11-06 00:00:00', 13.86)]\u001b[0m\n",
      "Answer:\u001b[32;1m\u001b[1;3mThe sales in rock genre in 2012 based on invoice are InvoiceId 319 with a total of 8.91, InvoiceId 319 with a total of 8.91, InvoiceId 319 with a total of 8.91, InvoiceId 319 with a total of 8.91, and InvoiceId 320 with a total of 13.86.\u001b[0m\n",
      "\u001b[1m> Finished chain.\u001b[0m\n"
     ]
    },
    {
     "data": {
      "text/plain": [
       "'The sales in rock genre in 2012 based on invoice are InvoiceId 319 with a total of 8.91, InvoiceId 319 with a total of 8.91, InvoiceId 319 with a total of 8.91, InvoiceId 319 with a total of 8.91, and InvoiceId 320 with a total of 13.86.'"
      ]
     },
     "execution_count": 81,
     "metadata": {},
     "output_type": "execute_result"
    }
   ],
   "source": [
    "db_chain.run(\"all sales in rock genre in 2012 based on invoice\")"
   ]
  },
  {
   "cell_type": "code",
   "execution_count": 82,
   "metadata": {},
   "outputs": [
    {
     "name": "stdout",
     "output_type": "stream",
     "text": [
      "\n",
      "\n",
      "\u001b[1m> Entering new  chain...\u001b[0m\n",
      "We want the returned DataFrame to contain only the Pop genre and only when the UnitPrice of the track is 0.99\n",
      "SQLQuery:\u001b[32;1m\u001b[1;3mSELECT * FROM tracks WHERE GenreId = 3 AND UnitPrice = 0.99 LIMIT 5;\u001b[0m\n",
      "SQLResult: \u001b[33;1m\u001b[1;3m[(77, 'Enter Sandman', 9, 1, 3, 'Apocalyptica', 221701, 7286305, 0.99), (78, 'Master Of Puppets', 9, 1, 3, 'Apocalyptica', 436453, 14375310, 0.99), (79, 'Harvester Of Sorrow', 9, 1, 3, 'Apocalyptica', 374543, 12372536, 0.99), (80, 'The Unforgiven', 9, 1, 3, 'Apocalyptica', 322925, 10422447, 0.99), (81, 'Sad But True', 9, 1, 3, 'Apocalyptica', 288208, 9405526, 0.99)]\u001b[0m\n",
      "Answer:\u001b[32;1m\u001b[1;3mThe DataFrame contains 5 tracks from the Pop genre with a UnitPrice of 0.99.\u001b[0m\n",
      "\u001b[1m> Finished chain.\u001b[0m\n"
     ]
    },
    {
     "data": {
      "text/plain": [
       "'The DataFrame contains 5 tracks from the Pop genre with a UnitPrice of 0.99.'"
      ]
     },
     "execution_count": 82,
     "metadata": {},
     "output_type": "execute_result"
    }
   ],
   "source": [
    "db_chain.run(\"We want the returned DataFrame to contain only the Pop genre and only when the UnitPrice of the track is 0.99\")"
   ]
  },
  {
   "cell_type": "code",
   "execution_count": 83,
   "metadata": {},
   "outputs": [
    {
     "name": "stdout",
     "output_type": "stream",
     "text": [
      "\n",
      "\n",
      "\u001b[1m> Entering new  chain...\u001b[0m\n",
      "Tampilkan lagu dengan Genre Pop\n",
      "SQLQuery:\u001b[32;1m\u001b[1;3mSELECT \"Name\" FROM tracks WHERE \"GenreId\" = 3 LIMIT 5;\u001b[0m\n",
      "SQLResult: \u001b[33;1m\u001b[1;3m[('Enter Sandman',), ('Master Of Puppets',), ('Harvester Of Sorrow',), ('The Unforgiven',), ('Sad But True',)]\u001b[0m\n",
      "Answer:"
     ]
    },
    {
     "name": "stderr",
     "output_type": "stream",
     "text": [
      "Retrying langchain.llms.openai.completion_with_retry.<locals>._completion_with_retry in 4.0 seconds as it raised RateLimitError: Rate limit reached for default-text-davinci-003 in organization org-zswZwidekCnb9bg9VvzfjN6p on requests per min. Limit: 3 / min. Please try again in 20s. Contact us through our help center at help.openai.com if you continue to have issues. Please add a payment method to your account to increase your rate limit. Visit https://platform.openai.com/account/billing to add a payment method..\n",
      "Retrying langchain.llms.openai.completion_with_retry.<locals>._completion_with_retry in 4.0 seconds as it raised RateLimitError: Rate limit reached for default-text-davinci-003 in organization org-zswZwidekCnb9bg9VvzfjN6p on requests per min. Limit: 3 / min. Please try again in 20s. Contact us through our help center at help.openai.com if you continue to have issues. Please add a payment method to your account to increase your rate limit. Visit https://platform.openai.com/account/billing to add a payment method..\n",
      "Retrying langchain.llms.openai.completion_with_retry.<locals>._completion_with_retry in 4.0 seconds as it raised RateLimitError: Rate limit reached for default-text-davinci-003 in organization org-zswZwidekCnb9bg9VvzfjN6p on requests per min. Limit: 3 / min. Please try again in 20s. Contact us through our help center at help.openai.com if you continue to have issues. Please add a payment method to your account to increase your rate limit. Visit https://platform.openai.com/account/billing to add a payment method..\n",
      "Retrying langchain.llms.openai.completion_with_retry.<locals>._completion_with_retry in 8.0 seconds as it raised RateLimitError: Rate limit reached for default-text-davinci-003 in organization org-zswZwidekCnb9bg9VvzfjN6p on requests per min. Limit: 3 / min. Please try again in 20s. Contact us through our help center at help.openai.com if you continue to have issues. Please add a payment method to your account to increase your rate limit. Visit https://platform.openai.com/account/billing to add a payment method..\n"
     ]
    },
    {
     "name": "stdout",
     "output_type": "stream",
     "text": [
      "\u001b[32;1m\u001b[1;3mLagu dengan Genre Pop adalah Enter Sandman, Master Of Puppets, Harvester Of Sorrow, The Unforgiven, dan Sad But True.\u001b[0m\n",
      "\u001b[1m> Finished chain.\u001b[0m\n"
     ]
    },
    {
     "data": {
      "text/plain": [
       "'Lagu dengan Genre Pop adalah Enter Sandman, Master Of Puppets, Harvester Of Sorrow, The Unforgiven, dan Sad But True.'"
      ]
     },
     "execution_count": 83,
     "metadata": {},
     "output_type": "execute_result"
    }
   ],
   "source": [
    "db_chain.run(\"Tampilkan lagu dengan Genre Pop\")"
   ]
  },
  {
   "cell_type": "markdown",
   "metadata": {},
   "source": [
    "### <a id='toc1_5_2_'></a>[Structured Data](#toc0_)\n",
    "\n"
   ]
  },
  {
   "cell_type": "code",
   "execution_count": 84,
   "metadata": {},
   "outputs": [],
   "source": [
    "filepath = \"data_input/rice.csv\""
   ]
  },
  {
   "cell_type": "markdown",
   "metadata": {},
   "source": [
    "Selanjutnya, kita akan membuat sebuah agen yang secara khusus dirancang untuk bekerja dengan data CSV. Agen ini akan memungkinkan kita **untuk melakukan kueri dan mengambil informasi dari dataset `rice.csv`**. Karena kita menggunakan model LLM yang sama seperti dalam bagian SQL, tidak perlu mendefinisikan ulang LLM. Kita dapat memanfaatkan model LLM yang sudah ada untuk agen CSV kita."
   ]
  },
  {
   "cell_type": "code",
   "execution_count": 85,
   "metadata": {},
   "outputs": [],
   "source": [
    "from langchain.agents import create_csv_agent\n",
    "agent = create_csv_agent(llm, filepath, verbose=True)"
   ]
  },
  {
   "cell_type": "markdown",
   "metadata": {},
   "source": [
    "Coba kita tanya beberapa pertanyaan tentang data rice"
   ]
  },
  {
   "cell_type": "code",
   "execution_count": 86,
   "metadata": {},
   "outputs": [
    {
     "name": "stdout",
     "output_type": "stream",
     "text": [
      "\n",
      "\n",
      "\u001b[1m> Entering new  chain...\u001b[0m\n",
      "\u001b[32;1m\u001b[1;3mThought: saya harus menghitung jumlah transaksi yang terjadi di setiap format\n",
      "Action: python_repl_ast\n",
      "Action Input: df.groupby('format')['receipt_id'].count()\u001b[0m\n",
      "Observation: \u001b[36;1m\u001b[1;3mformat\n",
      "hypermarket     999\n",
      "minimarket     7088\n",
      "supermarket    3913\n",
      "Name: receipt_id, dtype: int64\u001b[0m\n",
      "Thought:\u001b[32;1m\u001b[1;3m Saya sekarang tahu jawaban akhir\n",
      "Final Answer: Hypermarket memiliki 999 transaksi, Minimarket memiliki 7088 transaksi, dan Supermarket memiliki 3913 transaksi.\u001b[0m\n",
      "\n",
      "\u001b[1m> Finished chain.\u001b[0m\n"
     ]
    },
    {
     "data": {
      "text/plain": [
       "'Hypermarket memiliki 999 transaksi, Minimarket memiliki 7088 transaksi, dan Supermarket memiliki 3913 transaksi.'"
      ]
     },
     "execution_count": 86,
     "metadata": {},
     "output_type": "execute_result"
    }
   ],
   "source": [
    "agent.run(\"berikan detail banyaknya transaksi yang terjadi di setiap format\")"
   ]
  },
  {
   "cell_type": "code",
   "execution_count": 87,
   "metadata": {},
   "outputs": [
    {
     "name": "stdout",
     "output_type": "stream",
     "text": [
      "\n",
      "\n",
      "\u001b[1m> Entering new  chain...\u001b[0m\n",
      "\u001b[32;1m\u001b[1;3mThought: Saya harus mencari data yang berhubungan dengan format hypermarket\n",
      "Action: python_repl_ast\n",
      "Action Input: df[df['format'] == 'hypermarket']['purchase_time'].max()\u001b[0m\n",
      "Observation: \u001b[36;1m\u001b[1;3m9/9/2018 18:06\u001b[0m\n",
      "Thought:\u001b[32;1m\u001b[1;3m Saya sekarang tahu jawaban akhir\n",
      "Final Answer: Transaksi terakhir di hypermarket adalah 9/9/2018 18:06.\u001b[0m\n",
      "\n",
      "\u001b[1m> Finished chain.\u001b[0m\n"
     ]
    },
    {
     "data": {
      "text/plain": [
       "'Transaksi terakhir di hypermarket adalah 9/9/2018 18:06.'"
      ]
     },
     "execution_count": 87,
     "metadata": {},
     "output_type": "execute_result"
    }
   ],
   "source": [
    "agent.run(\"Kapan transaksi terakhir di hypermarket?\")"
   ]
  },
  {
   "cell_type": "code",
   "execution_count": 90,
   "metadata": {},
   "outputs": [
    {
     "name": "stdout",
     "output_type": "stream",
     "text": [
      "\n",
      "\n",
      "\u001b[1m> Entering new  chain...\u001b[0m\n",
      "\u001b[32;1m\u001b[1;3mThought: saya harus menghitung jumlah transaksi untuk setiap format market\n",
      "Action: python_repl_ast\n",
      "Action Input: df.groupby('format').count()\u001b[0m\n",
      "Observation: \u001b[36;1m\u001b[1;3m             Unnamed: 0  receipt_id  receipts_item_id  purchase_time  \\\n",
      "format                                                                 \n",
      "hypermarket         999         999               999            999   \n",
      "minimarket         7088        7088              7088           7088   \n",
      "supermarket        3913        3913              3913           3913   \n",
      "\n",
      "             category  sub_category  unit_price  discount  quantity  yearmonth  \n",
      "format                                                                          \n",
      "hypermarket       999           999         999       999       999        999  \n",
      "minimarket       7088          7088        7088      7088      7088       7088  \n",
      "supermarket      3913          3913        3913      3913      3913       3913  \u001b[0m\n",
      "Thought:\u001b[32;1m\u001b[1;3m Saya sekarang tahu jawaban akhir\n",
      "Final Answer: supermarket\u001b[0m\n",
      "\n",
      "\u001b[1m> Finished chain.\u001b[0m\n"
     ]
    },
    {
     "data": {
      "text/plain": [
       "'supermarket'"
      ]
     },
     "execution_count": 90,
     "metadata": {},
     "output_type": "execute_result"
    }
   ],
   "source": [
    "agent.run(\"mana format market yang paling banyak transaksinya?\")"
   ]
  },
  {
   "cell_type": "markdown",
   "metadata": {},
   "source": [
    "Perhatikan bahwa terdapat komponen tambahan dalam output:\n",
    "- `Thought`: Ini mewakili **pemikiran agen** dalam memecahkan masalah berdasarkan prompt yang diberikan. Ini memberikan wawasan tentang proses pengambilan keputusan agen dan alasan di balik tindakan-tindakannya.\n",
    "- `Action`: Ini menggambarkan **tindakan-tindakan yang diambil** oleh agen untuk memecahkan masalah. Dalam hal ini, melibatkan penggunaan alat `python_repl_ast`, yang merupakan shell Python. Ini juga menunjukkan perintah `pandas` yang spesifik yang digunakan oleh agen untuk mengekstrak hasil dari data CSV.\n",
    "- `Final Answer`: Ini adalah representasi bahasa alami dari **jawaban** yang diperoleh dari hasil dari `Input Tindakan`. Ini menyajikan respons akhir terhadap prompt dalam format yang dapat dibaca manusia."
   ]
  },
  {
   "cell_type": "markdown",
   "metadata": {},
   "source": [
    "### <a id='toc1_5_3_'></a>[Unstructured Data](#toc0_)\n",
    "\n",
    "Untuk memulai, mari tentukan jalur file kumpulan data `universal_studio_branches.csv` kami, yang berisi sekumpulan ulasan dari pengunjung Universal Studios."
   ]
  },
  {
   "cell_type": "code",
   "execution_count": 91,
   "metadata": {},
   "outputs": [],
   "source": [
    "datapath = 'data_input/universal_studio_branches.csv'"
   ]
  },
  {
   "cell_type": "markdown",
   "metadata": {},
   "source": [
    "Selanjutnya, kita akan membuat agen yang dirancang khusus untuk bekerja dengan data CSV. Agen ini akan memungkinkan kita untuk menanyakan dan mengambil informasi dari kumpulan data `universal_studio_branches.csv`. Karena kita menggunakan model LLM yang sama seperti pada bagian SQL, LLM tidak perlu didefinisikan ulang. Kita bisa memanfaatkan model LLM yang ada untuk agen CSV kita."
   ]
  },
  {
   "cell_type": "code",
   "execution_count": 92,
   "metadata": {},
   "outputs": [],
   "source": [
    "from langchain.agents import create_csv_agent\n",
    "agent = create_csv_agent(llm, datapath, verbose=True)"
   ]
  },
  {
   "cell_type": "code",
   "execution_count": 93,
   "metadata": {},
   "outputs": [
    {
     "name": "stdout",
     "output_type": "stream",
     "text": [
      "\n",
      "\n",
      "\u001b[1m> Entering new  chain...\u001b[0m\n"
     ]
    },
    {
     "name": "stdout",
     "output_type": "stream",
     "text": [
      "\u001b[32;1m\u001b[1;3mThought: I need to know the size of the dataframe\n",
      "Action: python_repl_ast\n",
      "Action Input: df.shape\u001b[0m\n",
      "Observation: \u001b[36;1m\u001b[1;3m(50904, 6)\u001b[0m\n",
      "Thought:\u001b[32;1m\u001b[1;3m I now know the final answer\n",
      "Final Answer: 50,904 review records are in the dataset.\u001b[0m\n",
      "\n",
      "\u001b[1m> Finished chain.\u001b[0m\n"
     ]
    },
    {
     "data": {
      "text/plain": [
       "'50,904 review records are in the dataset.'"
      ]
     },
     "execution_count": 93,
     "metadata": {},
     "output_type": "execute_result"
    }
   ],
   "source": [
    "agent.run(\"How many review records are in the dataset\")"
   ]
  },
  {
   "cell_type": "code",
   "execution_count": 31,
   "metadata": {},
   "outputs": [
    {
     "name": "stdout",
     "output_type": "stream",
     "text": [
      "\n",
      "\n",
      "\u001b[1m> Entering new  chain...\u001b[0m\n",
      "\u001b[32;1m\u001b[1;3mThought: I need to know what the dataframe contains\n",
      "Action: python_repl_ast\n",
      "Action Input: df.info()\u001b[0m\n",
      "Observation: \u001b[36;1m\u001b[1;3m<class 'pandas.core.frame.DataFrame'>\n",
      "RangeIndex: 50904 entries, 0 to 50903\n",
      "Data columns (total 6 columns):\n",
      " #   Column        Non-Null Count  Dtype  \n",
      "---  ------        --------------  -----  \n",
      " 0   reviewer      50904 non-null  object \n",
      " 1   rating        50904 non-null  float64\n",
      " 2   written_date  50904 non-null  object \n",
      " 3   title         50904 non-null  object \n",
      " 4   review_text   50904 non-null  object \n",
      " 5   branch        50904 non-null  object \n",
      "dtypes: float64(1), object(5)\n",
      "memory usage: 2.3+ MB\n",
      "\u001b[0m\n",
      "Thought:"
     ]
    },
    {
     "name": "stderr",
     "output_type": "stream",
     "text": [
      "Retrying langchain.llms.openai.completion_with_retry.<locals>._completion_with_retry in 4.0 seconds as it raised RateLimitError: Rate limit reached for default-text-davinci-003 in organization org-zswZwidekCnb9bg9VvzfjN6p on requests per min. Limit: 3 / min. Please try again in 20s. Contact us through our help center at help.openai.com if you continue to have issues. Please add a payment method to your account to increase your rate limit. Visit https://platform.openai.com/account/billing to add a payment method..\n",
      "Retrying langchain.llms.openai.completion_with_retry.<locals>._completion_with_retry in 4.0 seconds as it raised RateLimitError: Rate limit reached for default-text-davinci-003 in organization org-zswZwidekCnb9bg9VvzfjN6p on requests per min. Limit: 3 / min. Please try again in 20s. Contact us through our help center at help.openai.com if you continue to have issues. Please add a payment method to your account to increase your rate limit. Visit https://platform.openai.com/account/billing to add a payment method..\n",
      "Retrying langchain.llms.openai.completion_with_retry.<locals>._completion_with_retry in 4.0 seconds as it raised RateLimitError: Rate limit reached for default-text-davinci-003 in organization org-zswZwidekCnb9bg9VvzfjN6p on requests per min. Limit: 3 / min. Please try again in 20s. Contact us through our help center at help.openai.com if you continue to have issues. Please add a payment method to your account to increase your rate limit. Visit https://platform.openai.com/account/billing to add a payment method..\n"
     ]
    },
    {
     "name": "stdout",
     "output_type": "stream",
     "text": [
      "\u001b[32;1m\u001b[1;3m I now know the details of the dataset\n",
      "Final Answer: The dataframe contains 50904 entries, 6 columns, and the columns are reviewer, rating, written_date, title, review_text, and branch. The data types are float64 (1), and object (5).\u001b[0m\n",
      "\n",
      "\u001b[1m> Finished chain.\u001b[0m\n"
     ]
    },
    {
     "data": {
      "text/plain": [
       "'The dataframe contains 50904 entries, 6 columns, and the columns are reviewer, rating, written_date, title, review_text, and branch. The data types are float64 (1), and object (5).'"
      ]
     },
     "execution_count": 31,
     "metadata": {},
     "output_type": "execute_result"
    }
   ],
   "source": [
    "agent.run(\"Give me a detail info about the dataset\")"
   ]
  },
  {
   "cell_type": "code",
   "execution_count": 32,
   "metadata": {},
   "outputs": [
    {
     "name": "stdout",
     "output_type": "stream",
     "text": [
      "\n",
      "\n",
      "\u001b[1m> Entering new  chain...\u001b[0m\n",
      "\u001b[32;1m\u001b[1;3mThought: I need to calculate the percentage of positive reviews\n",
      "Action: python_repl_ast\n",
      "Action Input: df[df['rating'] > 3].shape[0] / df.shape[0]\u001b[0m\n",
      "Observation: \u001b[36;1m\u001b[1;3m0.8195033789093195\u001b[0m\n",
      "Thought:"
     ]
    },
    {
     "name": "stderr",
     "output_type": "stream",
     "text": [
      "Retrying langchain.llms.openai.completion_with_retry.<locals>._completion_with_retry in 4.0 seconds as it raised RateLimitError: Rate limit reached for default-text-davinci-003 in organization org-zswZwidekCnb9bg9VvzfjN6p on requests per min. Limit: 3 / min. Please try again in 20s. Contact us through our help center at help.openai.com if you continue to have issues. Please add a payment method to your account to increase your rate limit. Visit https://platform.openai.com/account/billing to add a payment method..\n",
      "Retrying langchain.llms.openai.completion_with_retry.<locals>._completion_with_retry in 4.0 seconds as it raised RateLimitError: Rate limit reached for default-text-davinci-003 in organization org-zswZwidekCnb9bg9VvzfjN6p on requests per min. Limit: 3 / min. Please try again in 20s. Contact us through our help center at help.openai.com if you continue to have issues. Please add a payment method to your account to increase your rate limit. Visit https://platform.openai.com/account/billing to add a payment method..\n",
      "Retrying langchain.llms.openai.completion_with_retry.<locals>._completion_with_retry in 4.0 seconds as it raised RateLimitError: Rate limit reached for default-text-davinci-003 in organization org-zswZwidekCnb9bg9VvzfjN6p on requests per min. Limit: 3 / min. Please try again in 20s. Contact us through our help center at help.openai.com if you continue to have issues. Please add a payment method to your account to increase your rate limit. Visit https://platform.openai.com/account/billing to add a payment method..\n",
      "Retrying langchain.llms.openai.completion_with_retry.<locals>._completion_with_retry in 8.0 seconds as it raised RateLimitError: Rate limit reached for default-text-davinci-003 in organization org-zswZwidekCnb9bg9VvzfjN6p on requests per min. Limit: 3 / min. Please try again in 20s. Contact us through our help center at help.openai.com if you continue to have issues. Please add a payment method to your account to increase your rate limit. Visit https://platform.openai.com/account/billing to add a payment method..\n"
     ]
    },
    {
     "name": "stdout",
     "output_type": "stream",
     "text": [
      "\u001b[32;1m\u001b[1;3m I now know the final answer\n",
      "Final Answer: 80.95% of the reviews in this dataset are positive.\u001b[0m\n",
      "\n",
      "\u001b[1m> Finished chain.\u001b[0m\n"
     ]
    },
    {
     "data": {
      "text/plain": [
       "'80.95% of the reviews in this dataset are positive.'"
      ]
     },
     "execution_count": 32,
     "metadata": {},
     "output_type": "execute_result"
    }
   ],
   "source": [
    "agent.run(\"How many percent a positive review from this datasets?\")"
   ]
  },
  {
   "cell_type": "code",
   "execution_count": 33,
   "metadata": {},
   "outputs": [
    {
     "name": "stdout",
     "output_type": "stream",
     "text": [
      "\n",
      "\n",
      "\u001b[1m> Entering new  chain...\u001b[0m\n",
      "\u001b[32;1m\u001b[1;3mThought: I need to calculate the percentage of negative reviews\n",
      "Action: python_repl_ast\n",
      "Action Input: df[df['rating'] < 3]['rating'].count() / df['rating'].count() * 100\u001b[0m\n",
      "Observation: \u001b[36;1m\u001b[1;3m7.777384881345277\u001b[0m\n",
      "Thought:\u001b[32;1m\u001b[1;3m I now know the final answer\n",
      "Final Answer: 7.78% of the reviews are negative.\u001b[0m\n",
      "\n",
      "\u001b[1m> Finished chain.\u001b[0m\n"
     ]
    },
    {
     "data": {
      "text/plain": [
       "'7.78% of the reviews are negative.'"
      ]
     },
     "execution_count": 33,
     "metadata": {},
     "output_type": "execute_result"
    }
   ],
   "source": [
    "agent.run(\"How many percent a negative review from this datasets?\")"
   ]
  },
  {
   "cell_type": "code",
   "execution_count": 37,
   "metadata": {},
   "outputs": [],
   "source": [
    "import matplotlib.pyplot as plt\n",
    "from textblob import TextBlob"
   ]
  },
  {
   "cell_type": "markdown",
   "metadata": {},
   "source": [
    "#### <a id='toc1_5_3_1_'></a>[Visualization](#toc0_)"
   ]
  },
  {
   "cell_type": "code",
   "execution_count": 94,
   "metadata": {},
   "outputs": [
    {
     "name": "stdout",
     "output_type": "stream",
     "text": [
      "\n",
      "\n",
      "\u001b[1m> Entering new  chain...\u001b[0m\n"
     ]
    },
    {
     "name": "stdout",
     "output_type": "stream",
     "text": [
      "\u001b[32;1m\u001b[1;3mThought: I need to group the data by branch and rating\n",
      "Action: python_repl_ast\n",
      "Action Input: df.groupby(['branch', 'rating']).size().unstack().plot(kind='bar', stacked=True)\u001b[0m\n",
      "Observation: \u001b[36;1m\u001b[1;3mAxes(0.125,0.11;0.775x0.77)\u001b[0m\n",
      "Thought:\u001b[32;1m\u001b[1;3m I now know the final answer\n",
      "Final Answer: The plot shows the count of each rating per branch.\u001b[0m\n",
      "\n",
      "\u001b[1m> Finished chain.\u001b[0m\n"
     ]
    },
    {
     "data": {
      "text/plain": [
       "'The plot shows the count of each rating per branch.'"
      ]
     },
     "execution_count": 94,
     "metadata": {},
     "output_type": "execute_result"
    },
    {
     "data": {
      "image/png": "[encoded data removed]",
      "text/plain": [
       "<Figure size 640x480 with 1 Axes>"
      ]
     },
     "metadata": {},
     "output_type": "display_data"
    }
   ],
   "source": [
    "agent.run(\"see how count of each rating using plot per branch\")"
   ]
  },
  {
   "cell_type": "code",
   "execution_count": 95,
   "metadata": {},
   "outputs": [
    {
     "name": "stdout",
     "output_type": "stream",
     "text": [
      "\n",
      "\n",
      "\u001b[1m> Entering new  chain...\u001b[0m\n"
     ]
    },
    {
     "name": "stdout",
     "output_type": "stream",
     "text": [
      "\u001b[32;1m\u001b[1;3mThought: I need to find out how long the longest line of visitors is for Universal Studio rides.\n",
      "Action: python_repl_ast\n",
      "Action Input: df['review_text'].str.extract(r'(\\d+\\s+hour)')\u001b[0m\n",
      "Observation: \u001b[36;1m\u001b[1;3m            0\n",
      "0      2 hour\n",
      "1         NaN\n",
      "2         NaN\n",
      "3         NaN\n",
      "4         NaN\n",
      "...       ...\n",
      "50899  1 hour\n",
      "50900     NaN\n",
      "50901     NaN\n",
      "50902     NaN\n",
      "50903  4 hour\n",
      "\n",
      "[50904 rows x 1 columns]\u001b[0m\n",
      "Thought:\u001b[32;1m\u001b[1;3m I need to find the longest line of visitors\n",
      "Action: python_repl_ast\n",
      "Action Input: df['review_text'].str.extract(r'(\\d+\\s+hour)').max()\u001b[0m\n",
      "Observation: \u001b[36;1m\u001b[1;3mTypeError: '>=' not supported between instances of 'str' and 'float'\u001b[0m\n",
      "Thought:\u001b[32;1m\u001b[1;3m I need to find the longest line of visitors\n",
      "Action: python_repl_ast\n",
      "Action Input: df['review_text'].str.extract(r'(\\d+\\s+hour)').dropna().max()\u001b[0m\n",
      "Observation: \u001b[36;1m\u001b[1;3m0    90 hour\n",
      "dtype: object\u001b[0m\n",
      "Thought:"
     ]
    },
    {
     "name": "stderr",
     "output_type": "stream",
     "text": [
      "Retrying langchain.llms.openai.completion_with_retry.<locals>._completion_with_retry in 4.0 seconds as it raised RateLimitError: Rate limit reached for default-text-davinci-003 in organization org-zswZwidekCnb9bg9VvzfjN6p on requests per min. Limit: 3 / min. Please try again in 20s. Contact us through our help center at help.openai.com if you continue to have issues. Please add a payment method to your account to increase your rate limit. Visit https://platform.openai.com/account/billing to add a payment method..\n",
      "Retrying langchain.llms.openai.completion_with_retry.<locals>._completion_with_retry in 4.0 seconds as it raised RateLimitError: Rate limit reached for default-text-davinci-003 in organization org-zswZwidekCnb9bg9VvzfjN6p on requests per min. Limit: 3 / min. Please try again in 20s. Contact us through our help center at help.openai.com if you continue to have issues. Please add a payment method to your account to increase your rate limit. Visit https://platform.openai.com/account/billing to add a payment method..\n",
      "Retrying langchain.llms.openai.completion_with_retry.<locals>._completion_with_retry in 4.0 seconds as it raised RateLimitError: Rate limit reached for default-text-davinci-003 in organization org-zswZwidekCnb9bg9VvzfjN6p on requests per min. Limit: 3 / min. Please try again in 20s. Contact us through our help center at help.openai.com if you continue to have issues. Please add a payment method to your account to increase your rate limit. Visit https://platform.openai.com/account/billing to add a payment method..\n"
     ]
    },
    {
     "name": "stdout",
     "output_type": "stream",
     "text": [
      "\u001b[32;1m\u001b[1;3m I now know the final answer\n",
      "Final Answer: The longest line of visitors for Universal Studio rides is 90 hours.\u001b[0m\n",
      "\n",
      "\u001b[1m> Finished chain.\u001b[0m\n"
     ]
    },
    {
     "data": {
      "text/plain": [
       "'The longest line of visitors for Universal Studio rides is 90 hours.'"
      ]
     },
     "execution_count": 95,
     "metadata": {},
     "output_type": "execute_result"
    }
   ],
   "source": [
    "agent.run(\"How long is the longest line of visitors for Universal Studio rides?\")"
   ]
  },
  {
   "cell_type": "code",
   "execution_count": null,
   "metadata": {},
   "outputs": [],
   "source": []
  }
 ],
 "metadata": {
  "kernelspec": {
   "display_name": "llm_dev",
   "language": "python",
   "name": "python3"
  },
  "language_info": {
   "codemirror_mode": {
    "name": "ipython",
    "version": 3
   },
   "file_extension": ".py",
   "mimetype": "text/x-python",
   "name": "python",
   "nbconvert_exporter": "python",
   "pygments_lexer": "ipython3",
   "version": "3.10.12"
  },
  "orig_nbformat": 4
 },
 "nbformat": 4,
 "nbformat_minor": 2
}
